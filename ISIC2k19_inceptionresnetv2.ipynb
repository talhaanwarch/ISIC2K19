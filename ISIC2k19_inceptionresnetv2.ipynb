{
  "nbformat": 4,
  "nbformat_minor": 0,
  "metadata": {
    "colab": {
      "name": "ISIC2k19_inceptionresnetv2.ipynb",
      "provenance": [],
      "collapsed_sections": [],
      "toc_visible": true,
      "include_colab_link": true
    },
    "kernelspec": {
      "name": "python3",
      "display_name": "Python 3"
    },
    "accelerator": "GPU"
  },
  "cells": [
    {
      "cell_type": "markdown",
      "metadata": {
        "id": "view-in-github",
        "colab_type": "text"
      },
      "source": [
        "<a href=\"https://colab.research.google.com/github/talhaanwarch/ISIC2K19/blob/master/ISIC2k19_inceptionresnetv2.ipynb\" target=\"_parent\"><img src=\"https://colab.research.google.com/assets/colab-badge.svg\" alt=\"Open In Colab\"/></a>"
      ]
    },
    {
      "cell_type": "markdown",
      "metadata": {
        "id": "ZCq6S218a683",
        "colab_type": "text"
      },
      "source": [
        "#data download"
      ]
    },
    {
      "cell_type": "code",
      "metadata": {
        "id": "6FV6Y73WWApL",
        "colab_type": "code",
        "outputId": "c1cd7a77-8040-459b-ed3d-c7703dbf560c",
        "colab": {
          "base_uri": "https://localhost:8080/",
          "height": 217
        }
      },
      "source": [
        "!wget https://s3.amazonaws.com/isic-challenge-2019/ISIC_2019_Training_Input.zip"
      ],
      "execution_count": 1,
      "outputs": [
        {
          "output_type": "stream",
          "text": [
            "--2020-04-29 01:44:56--  https://s3.amazonaws.com/isic-challenge-2019/ISIC_2019_Training_Input.zip\n",
            "Resolving s3.amazonaws.com (s3.amazonaws.com)... 52.216.133.61\n",
            "Connecting to s3.amazonaws.com (s3.amazonaws.com)|52.216.133.61|:443... connected.\n",
            "HTTP request sent, awaiting response... 200 OK\n",
            "Length: 9771618190 (9.1G) [application/zip]\n",
            "Saving to: ‘ISIC_2019_Training_Input.zip’\n",
            "\n",
            "ISIC_2019_Training_ 100%[===================>]   9.10G  36.3MB/s    in 3m 54s  \n",
            "\n",
            "2020-04-29 01:48:51 (39.9 MB/s) - ‘ISIC_2019_Training_Input.zip’ saved [9771618190/9771618190]\n",
            "\n"
          ],
          "name": "stdout"
        }
      ]
    },
    {
      "cell_type": "code",
      "metadata": {
        "id": "jRbzfyYiXEKN",
        "colab_type": "code",
        "colab": {}
      },
      "source": [
        "%%capture\n",
        "!unzip ISIC_2019_Training_Input.zip;"
      ],
      "execution_count": 0,
      "outputs": []
    },
    {
      "cell_type": "code",
      "metadata": {
        "id": "NrBW0Zn0XYIc",
        "colab_type": "code",
        "colab": {}
      },
      "source": [
        "rm ISIC_2019_Training_Input.zip"
      ],
      "execution_count": 0,
      "outputs": []
    },
    {
      "cell_type": "code",
      "metadata": {
        "id": "8Nx7lSdnWGyV",
        "colab_type": "code",
        "colab": {
          "base_uri": "https://localhost:8080/",
          "height": 217
        },
        "outputId": "b6695888-b257-4e01-e857-c0bae3f2b207"
      },
      "source": [
        "!wget https://s3.amazonaws.com/isic-challenge-2019/ISIC_2019_Test_Input.zip"
      ],
      "execution_count": 4,
      "outputs": [
        {
          "output_type": "stream",
          "text": [
            "--2020-04-29 01:53:48--  https://s3.amazonaws.com/isic-challenge-2019/ISIC_2019_Test_Input.zip\n",
            "Resolving s3.amazonaws.com (s3.amazonaws.com)... 52.216.129.181\n",
            "Connecting to s3.amazonaws.com (s3.amazonaws.com)|52.216.129.181|:443... connected.\n",
            "HTTP request sent, awaiting response... 200 OK\n",
            "Length: 3823247963 (3.6G) [application/zip]\n",
            "Saving to: ‘ISIC_2019_Test_Input.zip’\n",
            "\n",
            "ISIC_2019_Test_Inpu 100%[===================>]   3.56G  45.1MB/s    in 89s     \n",
            "\n",
            "2020-04-29 01:55:18 (40.8 MB/s) - ‘ISIC_2019_Test_Input.zip’ saved [3823247963/3823247963]\n",
            "\n"
          ],
          "name": "stdout"
        }
      ]
    },
    {
      "cell_type": "code",
      "metadata": {
        "id": "8vOHFeJNZDRe",
        "colab_type": "code",
        "colab": {}
      },
      "source": [
        "%%capture\n",
        "!unzip ISIC_2019_Test_Input.zip;"
      ],
      "execution_count": 0,
      "outputs": []
    },
    {
      "cell_type": "code",
      "metadata": {
        "id": "ZS4q_z79Zkn-",
        "colab_type": "code",
        "colab": {}
      },
      "source": [
        "rm ISIC_2019_Test_Input.zip"
      ],
      "execution_count": 0,
      "outputs": []
    },
    {
      "cell_type": "code",
      "metadata": {
        "id": "IsJ3fOIfZxl3",
        "colab_type": "code",
        "colab": {
          "base_uri": "https://localhost:8080/",
          "height": 206
        },
        "outputId": "768e16a5-e289-4956-d91e-ae0d577ccf27"
      },
      "source": [
        "import pandas as pd\n",
        "train_df=pd.read_csv('https://s3.amazonaws.com/isic-challenge-2019/ISIC_2019_Training_GroundTruth.csv')\n",
        "train_df.drop('UNK',inplace=True,axis=1)\n",
        "train_df['image']=train_df['image']+'.jpg'\n",
        "train_df.head()"
      ],
      "execution_count": 1,
      "outputs": [
        {
          "output_type": "execute_result",
          "data": {
            "text/html": [
              "<div>\n",
              "<style scoped>\n",
              "    .dataframe tbody tr th:only-of-type {\n",
              "        vertical-align: middle;\n",
              "    }\n",
              "\n",
              "    .dataframe tbody tr th {\n",
              "        vertical-align: top;\n",
              "    }\n",
              "\n",
              "    .dataframe thead th {\n",
              "        text-align: right;\n",
              "    }\n",
              "</style>\n",
              "<table border=\"1\" class=\"dataframe\">\n",
              "  <thead>\n",
              "    <tr style=\"text-align: right;\">\n",
              "      <th></th>\n",
              "      <th>image</th>\n",
              "      <th>MEL</th>\n",
              "      <th>NV</th>\n",
              "      <th>BCC</th>\n",
              "      <th>AK</th>\n",
              "      <th>BKL</th>\n",
              "      <th>DF</th>\n",
              "      <th>VASC</th>\n",
              "      <th>SCC</th>\n",
              "    </tr>\n",
              "  </thead>\n",
              "  <tbody>\n",
              "    <tr>\n",
              "      <th>0</th>\n",
              "      <td>ISIC_0000000.jpg</td>\n",
              "      <td>0.0</td>\n",
              "      <td>1.0</td>\n",
              "      <td>0.0</td>\n",
              "      <td>0.0</td>\n",
              "      <td>0.0</td>\n",
              "      <td>0.0</td>\n",
              "      <td>0.0</td>\n",
              "      <td>0.0</td>\n",
              "    </tr>\n",
              "    <tr>\n",
              "      <th>1</th>\n",
              "      <td>ISIC_0000001.jpg</td>\n",
              "      <td>0.0</td>\n",
              "      <td>1.0</td>\n",
              "      <td>0.0</td>\n",
              "      <td>0.0</td>\n",
              "      <td>0.0</td>\n",
              "      <td>0.0</td>\n",
              "      <td>0.0</td>\n",
              "      <td>0.0</td>\n",
              "    </tr>\n",
              "    <tr>\n",
              "      <th>2</th>\n",
              "      <td>ISIC_0000002.jpg</td>\n",
              "      <td>1.0</td>\n",
              "      <td>0.0</td>\n",
              "      <td>0.0</td>\n",
              "      <td>0.0</td>\n",
              "      <td>0.0</td>\n",
              "      <td>0.0</td>\n",
              "      <td>0.0</td>\n",
              "      <td>0.0</td>\n",
              "    </tr>\n",
              "    <tr>\n",
              "      <th>3</th>\n",
              "      <td>ISIC_0000003.jpg</td>\n",
              "      <td>0.0</td>\n",
              "      <td>1.0</td>\n",
              "      <td>0.0</td>\n",
              "      <td>0.0</td>\n",
              "      <td>0.0</td>\n",
              "      <td>0.0</td>\n",
              "      <td>0.0</td>\n",
              "      <td>0.0</td>\n",
              "    </tr>\n",
              "    <tr>\n",
              "      <th>4</th>\n",
              "      <td>ISIC_0000004.jpg</td>\n",
              "      <td>1.0</td>\n",
              "      <td>0.0</td>\n",
              "      <td>0.0</td>\n",
              "      <td>0.0</td>\n",
              "      <td>0.0</td>\n",
              "      <td>0.0</td>\n",
              "      <td>0.0</td>\n",
              "      <td>0.0</td>\n",
              "    </tr>\n",
              "  </tbody>\n",
              "</table>\n",
              "</div>"
            ],
            "text/plain": [
              "              image  MEL   NV  BCC   AK  BKL   DF  VASC  SCC\n",
              "0  ISIC_0000000.jpg  0.0  1.0  0.0  0.0  0.0  0.0   0.0  0.0\n",
              "1  ISIC_0000001.jpg  0.0  1.0  0.0  0.0  0.0  0.0   0.0  0.0\n",
              "2  ISIC_0000002.jpg  1.0  0.0  0.0  0.0  0.0  0.0   0.0  0.0\n",
              "3  ISIC_0000003.jpg  0.0  1.0  0.0  0.0  0.0  0.0   0.0  0.0\n",
              "4  ISIC_0000004.jpg  1.0  0.0  0.0  0.0  0.0  0.0   0.0  0.0"
            ]
          },
          "metadata": {
            "tags": []
          },
          "execution_count": 1
        }
      ]
    },
    {
      "cell_type": "code",
      "metadata": {
        "id": "YXsQ-Ox8aDOz",
        "colab_type": "code",
        "colab": {
          "base_uri": "https://localhost:8080/",
          "height": 206
        },
        "outputId": "0d7147ac-7c73-49cf-bf98-4371d400c900"
      },
      "source": [
        "test_df=pd.read_csv('https://s3.amazonaws.com/isic-challenge-2019/ISIC_2019_Test_Metadata.csv')\n",
        "test_df['image']=test_df['image']+'.jpg'\n",
        "test_df.head()"
      ],
      "execution_count": 2,
      "outputs": [
        {
          "output_type": "execute_result",
          "data": {
            "text/html": [
              "<div>\n",
              "<style scoped>\n",
              "    .dataframe tbody tr th:only-of-type {\n",
              "        vertical-align: middle;\n",
              "    }\n",
              "\n",
              "    .dataframe tbody tr th {\n",
              "        vertical-align: top;\n",
              "    }\n",
              "\n",
              "    .dataframe thead th {\n",
              "        text-align: right;\n",
              "    }\n",
              "</style>\n",
              "<table border=\"1\" class=\"dataframe\">\n",
              "  <thead>\n",
              "    <tr style=\"text-align: right;\">\n",
              "      <th></th>\n",
              "      <th>image</th>\n",
              "      <th>age_approx</th>\n",
              "      <th>anatom_site_general</th>\n",
              "      <th>sex</th>\n",
              "    </tr>\n",
              "  </thead>\n",
              "  <tbody>\n",
              "    <tr>\n",
              "      <th>0</th>\n",
              "      <td>ISIC_0034321.jpg</td>\n",
              "      <td>60.0</td>\n",
              "      <td>NaN</td>\n",
              "      <td>female</td>\n",
              "    </tr>\n",
              "    <tr>\n",
              "      <th>1</th>\n",
              "      <td>ISIC_0034322.jpg</td>\n",
              "      <td>70.0</td>\n",
              "      <td>anterior torso</td>\n",
              "      <td>male</td>\n",
              "    </tr>\n",
              "    <tr>\n",
              "      <th>2</th>\n",
              "      <td>ISIC_0034323.jpg</td>\n",
              "      <td>70.0</td>\n",
              "      <td>lower extremity</td>\n",
              "      <td>male</td>\n",
              "    </tr>\n",
              "    <tr>\n",
              "      <th>3</th>\n",
              "      <td>ISIC_0034324.jpg</td>\n",
              "      <td>70.0</td>\n",
              "      <td>lower extremity</td>\n",
              "      <td>male</td>\n",
              "    </tr>\n",
              "    <tr>\n",
              "      <th>4</th>\n",
              "      <td>ISIC_0034325.jpg</td>\n",
              "      <td>30.0</td>\n",
              "      <td>upper extremity</td>\n",
              "      <td>female</td>\n",
              "    </tr>\n",
              "  </tbody>\n",
              "</table>\n",
              "</div>"
            ],
            "text/plain": [
              "              image  age_approx anatom_site_general     sex\n",
              "0  ISIC_0034321.jpg        60.0                 NaN  female\n",
              "1  ISIC_0034322.jpg        70.0      anterior torso    male\n",
              "2  ISIC_0034323.jpg        70.0     lower extremity    male\n",
              "3  ISIC_0034324.jpg        70.0     lower extremity    male\n",
              "4  ISIC_0034325.jpg        30.0     upper extremity  female"
            ]
          },
          "metadata": {
            "tags": []
          },
          "execution_count": 2
        }
      ]
    },
    {
      "cell_type": "code",
      "metadata": {
        "id": "CxlHye-IZyWh",
        "colab_type": "code",
        "colab": {
          "base_uri": "https://localhost:8080/",
          "height": 35
        },
        "outputId": "3081571c-10b9-4a03-fb99-ffd6f50c54a7"
      },
      "source": [
        "import cv2\n",
        "img=cv2.imread('ISIC_2019_Test_Input/ISIC_0073120.jpg')\n",
        "img.shape"
      ],
      "execution_count": 3,
      "outputs": [
        {
          "output_type": "execute_result",
          "data": {
            "text/plain": [
              "(1024, 1024, 3)"
            ]
          },
          "metadata": {
            "tags": []
          },
          "execution_count": 3
        }
      ]
    },
    {
      "cell_type": "markdown",
      "metadata": {
        "id": "HrcifLOBa_W0",
        "colab_type": "text"
      },
      "source": [
        "#Model download"
      ]
    },
    {
      "cell_type": "code",
      "metadata": {
        "id": "RZadX4RdbAuC",
        "colab_type": "code",
        "colab": {}
      },
      "source": [
        "%%capture\n",
        "!pip install image-classifiers==1.0.0b1"
      ],
      "execution_count": 0,
      "outputs": []
    },
    {
      "cell_type": "code",
      "metadata": {
        "id": "dPJ9-sh-rsd7",
        "colab_type": "code",
        "colab": {
          "base_uri": "https://localhost:8080/",
          "height": 35
        },
        "outputId": "9ee1146e-fdcb-4d43-80f7-5a521484a6b2"
      },
      "source": [
        "from classification_models.keras import Classifiers\n",
        "inceptionresnetv2, preprocess_input = Classifiers.get('inceptionresnetv2')"
      ],
      "execution_count": 5,
      "outputs": [
        {
          "output_type": "stream",
          "text": [
            "Using TensorFlow backend.\n"
          ],
          "name": "stderr"
        }
      ]
    },
    {
      "cell_type": "code",
      "metadata": {
        "id": "pvHP5ty6r2S9",
        "colab_type": "code",
        "colab": {}
      },
      "source": [
        "from sklearn.model_selection import train_test_split\n",
        "train, val = train_test_split(train_df, test_size = 0.2)"
      ],
      "execution_count": 0,
      "outputs": []
    },
    {
      "cell_type": "code",
      "metadata": {
        "id": "J4PbS3tlr3tn",
        "colab_type": "code",
        "colab": {}
      },
      "source": [
        "from keras_preprocessing.image import ImageDataGenerator\n",
        "\n",
        "train_data_gen= ImageDataGenerator(\n",
        "    horizontal_flip=True,\n",
        "    vertical_flip=True,\n",
        "    rotation_range=90,\n",
        "    width_shift_range=0.2,\n",
        "    height_shift_range=0.2,\n",
        "    zoom_range=.2,\n",
        "    rescale=1/255,\n",
        "    fill_mode='nearest',\n",
        "    shear_range=0.2,\n",
        "    brightness_range=[0.5, 1.5])"
      ],
      "execution_count": 0,
      "outputs": []
    },
    {
      "cell_type": "code",
      "metadata": {
        "id": "LYOEqrHUr44w",
        "colab_type": "code",
        "colab": {
          "base_uri": "https://localhost:8080/",
          "height": 35
        },
        "outputId": "da860acf-9239-4f28-c08d-a0c114f45369"
      },
      "source": [
        "img_shape=300\n",
        "batch_size=20\n",
        "col=train_df.columns[1::].to_list()\n",
        "col"
      ],
      "execution_count": 8,
      "outputs": [
        {
          "output_type": "execute_result",
          "data": {
            "text/plain": [
              "['MEL', 'NV', 'BCC', 'AK', 'BKL', 'DF', 'VASC', 'SCC']"
            ]
          },
          "metadata": {
            "tags": []
          },
          "execution_count": 8
        }
      ]
    },
    {
      "cell_type": "code",
      "metadata": {
        "id": "La7WeKO7r5cF",
        "colab_type": "code",
        "colab": {
          "base_uri": "https://localhost:8080/",
          "height": 72
        },
        "outputId": "266e0f7e-619c-426e-8958-bdf600a61885"
      },
      "source": [
        "train_generator=train_data_gen.flow_from_dataframe(train,directory='/content/ISIC_2019_Training_Input',\n",
        "                                                      target_size=(img_shape,img_shape),\n",
        "                                                      x_col=\"image\",\n",
        "                                                      y_col=col,\n",
        "                                                      class_mode='raw',\n",
        "                                                      shuffle=False,\n",
        "                                                      batch_size=batch_size)\n",
        "\n",
        "val_generator=train_data_gen.flow_from_dataframe(val,directory='/content/ISIC_2019_Training_Input',\n",
        "                                                      target_size=(img_shape,img_shape),\n",
        "                                                      x_col=\"image\",\n",
        "                                                      y_col=col,\n",
        "                                                      class_mode='raw',\n",
        "                                                      shuffle=False,\n",
        "                                                      batch_size=batch_size)\n",
        "test_generator=train_data_gen.flow_from_dataframe(test_df,directory='/content/ISIC_2019_Test_Input',\n",
        "                                                      target_size=(img_shape,img_shape),\n",
        "                                                      x_col=\"image\",\n",
        "                                                      class_mode=None,\n",
        "                                                      shuffle=False,\n",
        "                                                      batch_size=batch_size)"
      ],
      "execution_count": 9,
      "outputs": [
        {
          "output_type": "stream",
          "text": [
            "Found 20264 validated image filenames.\n",
            "Found 5067 validated image filenames.\n",
            "Found 8238 validated image filenames.\n"
          ],
          "name": "stdout"
        }
      ]
    },
    {
      "cell_type": "code",
      "metadata": {
        "id": "7WBDR4JwsBa4",
        "colab_type": "code",
        "colab": {
          "base_uri": "https://localhost:8080/",
          "height": 92
        },
        "outputId": "bd0fd980-c69b-41f1-fbcb-c4582e864a6d"
      },
      "source": [
        "base_model = inceptionresnetv2(input_shape=(img_shape,img_shape,3), weights='imagenet', include_top=False)\n",
        "train_generator.next()[0].shape,train_generator.next()[1].shape\n"
      ],
      "execution_count": 10,
      "outputs": [
        {
          "output_type": "stream",
          "text": [
            "Downloading data from https://github.com/fchollet/deep-learning-models/releases/download/v0.7/inception_resnet_v2_weights_tf_dim_ordering_tf_kernels_notop.h5\n",
            "219062272/219055592 [==============================] - 5s 0us/step\n"
          ],
          "name": "stdout"
        },
        {
          "output_type": "execute_result",
          "data": {
            "text/plain": [
              "((20, 300, 300, 3), (20, 8))"
            ]
          },
          "metadata": {
            "tags": []
          },
          "execution_count": 10
        }
      ]
    },
    {
      "cell_type": "code",
      "metadata": {
        "id": "BckIN4qKsE1V",
        "colab_type": "code",
        "colab": {}
      },
      "source": [
        "import keras\n",
        "\n",
        "\n",
        "x = keras.layers.GlobalAveragePooling2D()(base_model.output)\n",
        "output = keras.layers.Dense(len(col), activation='sigmoid')(x)\n",
        "model = keras.models.Model(inputs=[base_model.input], outputs=[output])\n",
        "\n",
        "\n",
        "model.compile(keras.optimizers.rmsprop(lr=0.0001, decay=1e-6),loss=\"binary_crossentropy\",metrics=[\"accuracy\"])\n",
        "\n",
        "\n",
        "from sklearn.metrics import accuracy_score,f1_score,roc_auc_score\n",
        "from keras.callbacks import ModelCheckpoint,ReduceLROnPlateau"
      ],
      "execution_count": 0,
      "outputs": []
    },
    {
      "cell_type": "code",
      "metadata": {
        "id": "Bsv8NCntrmET",
        "colab_type": "code",
        "colab": {
          "base_uri": "https://localhost:8080/",
          "height": 764
        },
        "outputId": "3cafca0d-9d30-4536-94ab-253a20fbf5fb"
      },
      "source": [
        "\n",
        "results = model.fit_generator(train_generator,epochs=20,\n",
        "                              steps_per_epoch=train_generator.n/batch_size,\n",
        "                              validation_data=val_generator,\n",
        "                             validation_steps=val_generator.n/batch_size,\n",
        "                              callbacks=[\n",
        "                                  ReduceLROnPlateau(monitor='val_loss', factor=0.3,patience=3, min_lr=0.000001)])"
      ],
      "execution_count": 12,
      "outputs": [
        {
          "output_type": "stream",
          "text": [
            "Epoch 1/20\n",
            "1014/1013 [==============================] - 1245s 1s/step - loss: 0.1870 - accuracy: 0.9269 - val_loss: 0.1484 - val_accuracy: 0.9319\n",
            "Epoch 2/20\n",
            "1014/1013 [==============================] - 1167s 1s/step - loss: 0.1521 - accuracy: 0.9393 - val_loss: 0.0728 - val_accuracy: 0.9367\n",
            "Epoch 3/20\n",
            "1014/1013 [==============================] - 1189s 1s/step - loss: 0.1368 - accuracy: 0.9451 - val_loss: 0.1304 - val_accuracy: 0.9399\n",
            "Epoch 4/20\n",
            "1014/1013 [==============================] - 1198s 1s/step - loss: 0.1269 - accuracy: 0.9498 - val_loss: 0.0569 - val_accuracy: 0.9427\n",
            "Epoch 5/20\n",
            "1014/1013 [==============================] - 1201s 1s/step - loss: 0.1196 - accuracy: 0.9535 - val_loss: 0.1325 - val_accuracy: 0.9452\n",
            "Epoch 6/20\n",
            "1014/1013 [==============================] - 1199s 1s/step - loss: 0.1121 - accuracy: 0.9563 - val_loss: 0.0934 - val_accuracy: 0.9467\n",
            "Epoch 7/20\n",
            "1014/1013 [==============================] - 1177s 1s/step - loss: 0.1059 - accuracy: 0.9590 - val_loss: 0.0491 - val_accuracy: 0.9462\n",
            "Epoch 8/20\n",
            "1014/1013 [==============================] - 1178s 1s/step - loss: 0.1004 - accuracy: 0.9612 - val_loss: 0.2115 - val_accuracy: 0.9347\n",
            "Epoch 9/20\n",
            "1014/1013 [==============================] - 1163s 1s/step - loss: 0.0950 - accuracy: 0.9634 - val_loss: 0.0561 - val_accuracy: 0.9467\n",
            "Epoch 10/20\n",
            "1014/1013 [==============================] - 1163s 1s/step - loss: 0.0904 - accuracy: 0.9653 - val_loss: 0.1037 - val_accuracy: 0.9471\n",
            "Epoch 11/20\n",
            "1014/1013 [==============================] - 1174s 1s/step - loss: 0.0651 - accuracy: 0.9747 - val_loss: 0.0378 - val_accuracy: 0.9542\n",
            "Epoch 12/20\n",
            "1014/1013 [==============================] - 1169s 1s/step - loss: 0.0572 - accuracy: 0.9781 - val_loss: 0.0461 - val_accuracy: 0.9534\n",
            "Epoch 13/20\n",
            "1014/1013 [==============================] - 1163s 1s/step - loss: 0.0524 - accuracy: 0.9800 - val_loss: 0.0153 - val_accuracy: 0.9530\n",
            "Epoch 14/20\n",
            "1014/1013 [==============================] - 1169s 1s/step - loss: 0.0470 - accuracy: 0.9822 - val_loss: 0.0950 - val_accuracy: 0.9550\n",
            "Epoch 15/20\n",
            "1014/1013 [==============================] - 1166s 1s/step - loss: 0.0453 - accuracy: 0.9834 - val_loss: 0.1038 - val_accuracy: 0.9503\n",
            "Epoch 16/20\n",
            "1014/1013 [==============================] - 1164s 1s/step - loss: 0.0420 - accuracy: 0.9840 - val_loss: 0.1142 - val_accuracy: 0.9552\n",
            "Epoch 17/20\n",
            "1014/1013 [==============================] - 1171s 1s/step - loss: 0.0342 - accuracy: 0.9872 - val_loss: 0.2430 - val_accuracy: 0.9558\n",
            "Epoch 18/20\n",
            "1014/1013 [==============================] - 1165s 1s/step - loss: 0.0314 - accuracy: 0.9883 - val_loss: 8.2599e-04 - val_accuracy: 0.9570\n",
            "Epoch 19/20\n",
            "1014/1013 [==============================] - 1163s 1s/step - loss: 0.0286 - accuracy: 0.9891 - val_loss: 0.0215 - val_accuracy: 0.9566\n",
            "Epoch 20/20\n",
            "1014/1013 [==============================] - 1171s 1s/step - loss: 0.0284 - accuracy: 0.9896 - val_loss: 0.3767 - val_accuracy: 0.9578\n"
          ],
          "name": "stdout"
        }
      ]
    },
    {
      "cell_type": "code",
      "metadata": {
        "id": "DYTVei5GcqYw",
        "colab_type": "code",
        "outputId": "07a11eb0-cbef-43b4-c14f-bb542b089707",
        "colab": {
          "base_uri": "https://localhost:8080/",
          "height": 295
        }
      },
      "source": [
        "import matplotlib.pyplot as plt\n",
        "\n",
        "plt.plot(results.history['loss'])\n",
        "plt.plot(results.history['val_loss'])\n",
        "plt.title('model loss')\n",
        "plt.ylabel('loss')\n",
        "plt.xlabel('epoch')\n",
        "plt.legend(['train', 'test'], loc='upper left')\n",
        "plt.show()"
      ],
      "execution_count": 13,
      "outputs": [
        {
          "output_type": "display_data",
          "data": {
            "image/png": "[encoded data removed]",
            "text/plain": [
              "<Figure size 432x288 with 1 Axes>"
            ]
          },
          "metadata": {
            "tags": [],
            "needs_background": "light"
          }
        }
      ]
    },
    {
      "cell_type": "code",
      "metadata": {
        "id": "dP37qPGyealY",
        "colab_type": "code",
        "outputId": "6609bc1c-6733-4d8a-baec-890f78e6f831",
        "colab": {
          "base_uri": "https://localhost:8080/",
          "height": 53
        }
      },
      "source": [
        "y_pred = model.predict_generator(val_generator,steps=val_generator.n/batch_size)\n",
        "y_pred=y_pred.round().astype(int)\n",
        "y_true=val.iloc[:,1::].values\n",
        "print(accuracy_score(y_true,y_pred))\n",
        "print(f1_score(y_true,y_pred,average='macro'))\n"
      ],
      "execution_count": 14,
      "outputs": [
        {
          "output_type": "stream",
          "text": [
            "0.7985000986777185\n",
            "0.7661361539656808\n"
          ],
          "name": "stdout"
        }
      ]
    },
    {
      "cell_type": "code",
      "metadata": {
        "id": "Mmjme-j6evHK",
        "colab_type": "code",
        "colab": {}
      },
      "source": [
        "y_test = model.predict_generator(test_generator,steps=test_generator.n/batch_size)\n",
        "#y_test=y_test.round().astype(int)"
      ],
      "execution_count": 0,
      "outputs": []
    },
    {
      "cell_type": "code",
      "metadata": {
        "id": "BLVFaRfRfmhw",
        "colab_type": "code",
        "outputId": "fce86404-c942-4010-ef1a-d72929591a79",
        "colab": {
          "base_uri": "https://localhost:8080/",
          "height": 206
        }
      },
      "source": [
        "import numpy as np\n",
        "d = pd.DataFrame(0, index=np.arange(len(y_test)), columns=col)\n",
        "sub=pd.concat([test_df['image'],d],axis=1)\n",
        "sub['image']=sub['image'].str.replace(r'.jpg', '')\n",
        "sub.head()"
      ],
      "execution_count": 16,
      "outputs": [
        {
          "output_type": "execute_result",
          "data": {
            "text/html": [
              "<div>\n",
              "<style scoped>\n",
              "    .dataframe tbody tr th:only-of-type {\n",
              "        vertical-align: middle;\n",
              "    }\n",
              "\n",
              "    .dataframe tbody tr th {\n",
              "        vertical-align: top;\n",
              "    }\n",
              "\n",
              "    .dataframe thead th {\n",
              "        text-align: right;\n",
              "    }\n",
              "</style>\n",
              "<table border=\"1\" class=\"dataframe\">\n",
              "  <thead>\n",
              "    <tr style=\"text-align: right;\">\n",
              "      <th></th>\n",
              "      <th>image</th>\n",
              "      <th>MEL</th>\n",
              "      <th>NV</th>\n",
              "      <th>BCC</th>\n",
              "      <th>AK</th>\n",
              "      <th>BKL</th>\n",
              "      <th>DF</th>\n",
              "      <th>VASC</th>\n",
              "      <th>SCC</th>\n",
              "    </tr>\n",
              "  </thead>\n",
              "  <tbody>\n",
              "    <tr>\n",
              "      <th>0</th>\n",
              "      <td>ISIC_0034321</td>\n",
              "      <td>0</td>\n",
              "      <td>0</td>\n",
              "      <td>0</td>\n",
              "      <td>0</td>\n",
              "      <td>0</td>\n",
              "      <td>0</td>\n",
              "      <td>0</td>\n",
              "      <td>0</td>\n",
              "    </tr>\n",
              "    <tr>\n",
              "      <th>1</th>\n",
              "      <td>ISIC_0034322</td>\n",
              "      <td>0</td>\n",
              "      <td>0</td>\n",
              "      <td>0</td>\n",
              "      <td>0</td>\n",
              "      <td>0</td>\n",
              "      <td>0</td>\n",
              "      <td>0</td>\n",
              "      <td>0</td>\n",
              "    </tr>\n",
              "    <tr>\n",
              "      <th>2</th>\n",
              "      <td>ISIC_0034323</td>\n",
              "      <td>0</td>\n",
              "      <td>0</td>\n",
              "      <td>0</td>\n",
              "      <td>0</td>\n",
              "      <td>0</td>\n",
              "      <td>0</td>\n",
              "      <td>0</td>\n",
              "      <td>0</td>\n",
              "    </tr>\n",
              "    <tr>\n",
              "      <th>3</th>\n",
              "      <td>ISIC_0034324</td>\n",
              "      <td>0</td>\n",
              "      <td>0</td>\n",
              "      <td>0</td>\n",
              "      <td>0</td>\n",
              "      <td>0</td>\n",
              "      <td>0</td>\n",
              "      <td>0</td>\n",
              "      <td>0</td>\n",
              "    </tr>\n",
              "    <tr>\n",
              "      <th>4</th>\n",
              "      <td>ISIC_0034325</td>\n",
              "      <td>0</td>\n",
              "      <td>0</td>\n",
              "      <td>0</td>\n",
              "      <td>0</td>\n",
              "      <td>0</td>\n",
              "      <td>0</td>\n",
              "      <td>0</td>\n",
              "      <td>0</td>\n",
              "    </tr>\n",
              "  </tbody>\n",
              "</table>\n",
              "</div>"
            ],
            "text/plain": [
              "          image  MEL  NV  BCC  AK  BKL  DF  VASC  SCC\n",
              "0  ISIC_0034321    0   0    0   0    0   0     0    0\n",
              "1  ISIC_0034322    0   0    0   0    0   0     0    0\n",
              "2  ISIC_0034323    0   0    0   0    0   0     0    0\n",
              "3  ISIC_0034324    0   0    0   0    0   0     0    0\n",
              "4  ISIC_0034325    0   0    0   0    0   0     0    0"
            ]
          },
          "metadata": {
            "tags": []
          },
          "execution_count": 16
        }
      ]
    },
    {
      "cell_type": "code",
      "metadata": {
        "id": "N53LWkrofqHI",
        "colab_type": "code",
        "outputId": "f3e35af4-306f-4931-9b2e-b30b08178ce6",
        "colab": {
          "base_uri": "https://localhost:8080/",
          "height": 226
        }
      },
      "source": [
        "for i,j in enumerate(col):\n",
        "    sub[j]=y_test[:,i]\n",
        "sub.head()"
      ],
      "execution_count": 17,
      "outputs": [
        {
          "output_type": "execute_result",
          "data": {
            "text/html": [
              "<div>\n",
              "<style scoped>\n",
              "    .dataframe tbody tr th:only-of-type {\n",
              "        vertical-align: middle;\n",
              "    }\n",
              "\n",
              "    .dataframe tbody tr th {\n",
              "        vertical-align: top;\n",
              "    }\n",
              "\n",
              "    .dataframe thead th {\n",
              "        text-align: right;\n",
              "    }\n",
              "</style>\n",
              "<table border=\"1\" class=\"dataframe\">\n",
              "  <thead>\n",
              "    <tr style=\"text-align: right;\">\n",
              "      <th></th>\n",
              "      <th>image</th>\n",
              "      <th>MEL</th>\n",
              "      <th>NV</th>\n",
              "      <th>BCC</th>\n",
              "      <th>AK</th>\n",
              "      <th>BKL</th>\n",
              "      <th>DF</th>\n",
              "      <th>VASC</th>\n",
              "      <th>SCC</th>\n",
              "    </tr>\n",
              "  </thead>\n",
              "  <tbody>\n",
              "    <tr>\n",
              "      <th>0</th>\n",
              "      <td>ISIC_0034321</td>\n",
              "      <td>2.411615e-03</td>\n",
              "      <td>9.950216e-03</td>\n",
              "      <td>9.951366e-01</td>\n",
              "      <td>1.865926e-06</td>\n",
              "      <td>1.149814e-03</td>\n",
              "      <td>5.015582e-07</td>\n",
              "      <td>1.408054e-07</td>\n",
              "      <td>2.692782e-05</td>\n",
              "    </tr>\n",
              "    <tr>\n",
              "      <th>1</th>\n",
              "      <td>ISIC_0034322</td>\n",
              "      <td>1.339413e-10</td>\n",
              "      <td>9.999999e-01</td>\n",
              "      <td>2.802629e-18</td>\n",
              "      <td>1.268978e-24</td>\n",
              "      <td>2.317892e-11</td>\n",
              "      <td>3.138214e-30</td>\n",
              "      <td>4.118626e-30</td>\n",
              "      <td>5.309550e-28</td>\n",
              "    </tr>\n",
              "    <tr>\n",
              "      <th>2</th>\n",
              "      <td>ISIC_0034323</td>\n",
              "      <td>4.133657e-07</td>\n",
              "      <td>1.456745e-07</td>\n",
              "      <td>9.999576e-01</td>\n",
              "      <td>2.059041e-07</td>\n",
              "      <td>4.149686e-07</td>\n",
              "      <td>1.425497e-11</td>\n",
              "      <td>5.634845e-15</td>\n",
              "      <td>2.874657e-04</td>\n",
              "    </tr>\n",
              "    <tr>\n",
              "      <th>3</th>\n",
              "      <td>ISIC_0034324</td>\n",
              "      <td>3.775400e-07</td>\n",
              "      <td>9.999977e-01</td>\n",
              "      <td>1.218146e-12</td>\n",
              "      <td>2.038537e-19</td>\n",
              "      <td>5.121590e-11</td>\n",
              "      <td>4.035054e-22</td>\n",
              "      <td>8.844212e-16</td>\n",
              "      <td>7.612656e-22</td>\n",
              "    </tr>\n",
              "    <tr>\n",
              "      <th>4</th>\n",
              "      <td>ISIC_0034325</td>\n",
              "      <td>8.950728e-10</td>\n",
              "      <td>9.999996e-01</td>\n",
              "      <td>1.957036e-14</td>\n",
              "      <td>2.389760e-23</td>\n",
              "      <td>2.163081e-12</td>\n",
              "      <td>3.957146e-29</td>\n",
              "      <td>1.102805e-25</td>\n",
              "      <td>2.668486e-28</td>\n",
              "    </tr>\n",
              "  </tbody>\n",
              "</table>\n",
              "</div>"
            ],
            "text/plain": [
              "          image           MEL  ...          VASC           SCC\n",
              "0  ISIC_0034321  2.411615e-03  ...  1.408054e-07  2.692782e-05\n",
              "1  ISIC_0034322  1.339413e-10  ...  4.118626e-30  5.309550e-28\n",
              "2  ISIC_0034323  4.133657e-07  ...  5.634845e-15  2.874657e-04\n",
              "3  ISIC_0034324  3.775400e-07  ...  8.844212e-16  7.612656e-22\n",
              "4  ISIC_0034325  8.950728e-10  ...  1.102805e-25  2.668486e-28\n",
              "\n",
              "[5 rows x 9 columns]"
            ]
          },
          "metadata": {
            "tags": []
          },
          "execution_count": 17
        }
      ]
    },
    {
      "cell_type": "code",
      "metadata": {
        "id": "HY35Yr50ir1O",
        "colab_type": "code",
        "colab": {}
      },
      "source": [
        "sub.to_csv('inceptionresnetv2.csv', index=False)"
      ],
      "execution_count": 0,
      "outputs": []
    },
    {
      "cell_type": "code",
      "metadata": {
        "id": "jJsz3WmRbVvI",
        "colab_type": "code",
        "colab": {}
      },
      "source": [
        ""
      ],
      "execution_count": 0,
      "outputs": []
    }
  ]
}